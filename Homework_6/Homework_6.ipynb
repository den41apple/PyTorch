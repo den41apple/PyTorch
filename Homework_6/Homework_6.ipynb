{
 "cells": [
  {
   "cell_type": "code",
   "execution_count": 1,
   "metadata": {
    "colab": {},
    "colab_type": "code",
    "id": "2H5tFUEMCE7d"
   },
   "outputs": [
    {
     "data": {
      "text/plain": [
       "device(type='cuda')"
      ]
     },
     "execution_count": 1,
     "metadata": {},
     "output_type": "execute_result"
    }
   ],
   "source": [
    "import random\n",
    "import torch\n",
    "import pandas as pd\n",
    "import numpy as np\n",
    "import torch.nn as nn\n",
    "import torch.nn.functional as F\n",
    "\n",
    "max_words = 2000\n",
    "max_len = 40\n",
    "num_classes = 2\n",
    "\n",
    "# Training\n",
    "epochs = 40\n",
    "batch_size = 512\n",
    "print_batch_n = 100\n",
    "seed = 0\n",
    "random.seed(seed)\n",
    "np.random.seed(seed)\n",
    "torch.manual_seed(seed)\n",
    "torch.cuda.manual_seed(seed)\n",
    "torch.backends.cudnn.deterministic = True\n",
    "\n",
    "device = torch.device('cuda' if torch.cuda.is_available() else 'cpu')\n",
    "device"
   ]
  },
  {
   "cell_type": "code",
   "execution_count": 2,
   "metadata": {
    "colab": {},
    "colab_type": "code",
    "id": "LUCk-5M2yg3S"
   },
   "outputs": [],
   "source": [
    "df = pd.read_excel(\"отзывы за лето.xls\")"
   ]
  },
  {
   "cell_type": "code",
   "execution_count": 3,
   "metadata": {
    "colab": {
     "base_uri": "https://localhost:8080/",
     "height": 204
    },
    "colab_type": "code",
    "executionInfo": {
     "elapsed": 566,
     "status": "ok",
     "timestamp": 1590650140159,
     "user": {
      "displayName": "Roman Zakharov",
      "photoUrl": "",
      "userId": "18255168926005506833"
     },
     "user_tz": -240
    },
    "id": "KBSf-OfDzWOI",
    "outputId": "8b28d120-8490-44b3-cb86-6a1267ef1ad1"
   },
   "outputs": [
    {
     "data": {
      "text/html": [
       "<div>\n",
       "<style scoped>\n",
       "    .dataframe tbody tr th:only-of-type {\n",
       "        vertical-align: middle;\n",
       "    }\n",
       "\n",
       "    .dataframe tbody tr th {\n",
       "        vertical-align: top;\n",
       "    }\n",
       "\n",
       "    .dataframe thead th {\n",
       "        text-align: right;\n",
       "    }\n",
       "</style>\n",
       "<table border=\"1\" class=\"dataframe\">\n",
       "  <thead>\n",
       "    <tr style=\"text-align: right;\">\n",
       "      <th></th>\n",
       "      <th>Rating</th>\n",
       "      <th>Content</th>\n",
       "      <th>Date</th>\n",
       "    </tr>\n",
       "  </thead>\n",
       "  <tbody>\n",
       "    <tr>\n",
       "      <th>0</th>\n",
       "      <td>5</td>\n",
       "      <td>It just works!</td>\n",
       "      <td>2017-08-14</td>\n",
       "    </tr>\n",
       "    <tr>\n",
       "      <th>1</th>\n",
       "      <td>4</td>\n",
       "      <td>В целом удобноное приложение...из минусов хотя...</td>\n",
       "      <td>2017-08-14</td>\n",
       "    </tr>\n",
       "    <tr>\n",
       "      <th>2</th>\n",
       "      <td>5</td>\n",
       "      <td>Отлично все</td>\n",
       "      <td>2017-08-14</td>\n",
       "    </tr>\n",
       "    <tr>\n",
       "      <th>3</th>\n",
       "      <td>5</td>\n",
       "      <td>Стал зависать на 1% работы антивируса. Дальше ...</td>\n",
       "      <td>2017-08-14</td>\n",
       "    </tr>\n",
       "    <tr>\n",
       "      <th>4</th>\n",
       "      <td>5</td>\n",
       "      <td>Очень удобно, работает быстро.</td>\n",
       "      <td>2017-08-14</td>\n",
       "    </tr>\n",
       "  </tbody>\n",
       "</table>\n",
       "</div>"
      ],
      "text/plain": [
       "   Rating                                            Content        Date\n",
       "0       5                                     It just works!  2017-08-14\n",
       "1       4  В целом удобноное приложение...из минусов хотя...  2017-08-14\n",
       "2       5                                        Отлично все  2017-08-14\n",
       "3       5  Стал зависать на 1% работы антивируса. Дальше ...  2017-08-14\n",
       "4       5                     Очень удобно, работает быстро.  2017-08-14"
      ]
     },
     "execution_count": 3,
     "metadata": {},
     "output_type": "execute_result"
    }
   ],
   "source": [
    "df.head()"
   ]
  },
  {
   "cell_type": "code",
   "execution_count": 4,
   "metadata": {},
   "outputs": [],
   "source": [
    "# Убираем тройки\n",
    "df = df[df['Rating'] != 3]\n",
    "\n",
    "# Разметим классы\n",
    "replace = {1: 0,\n",
    "           2: 0,\n",
    "           4: 1,\n",
    "           5: 1}\n",
    "df['Rating'] = df['Rating'].replace(replace)"
   ]
  },
  {
   "cell_type": "code",
   "execution_count": 5,
   "metadata": {},
   "outputs": [
    {
     "data": {
      "text/html": [
       "<div>\n",
       "<style scoped>\n",
       "    .dataframe tbody tr th:only-of-type {\n",
       "        vertical-align: middle;\n",
       "    }\n",
       "\n",
       "    .dataframe tbody tr th {\n",
       "        vertical-align: top;\n",
       "    }\n",
       "\n",
       "    .dataframe thead th {\n",
       "        text-align: right;\n",
       "    }\n",
       "</style>\n",
       "<table border=\"1\" class=\"dataframe\">\n",
       "  <thead>\n",
       "    <tr style=\"text-align: right;\">\n",
       "      <th></th>\n",
       "      <th>Rating</th>\n",
       "      <th>Content</th>\n",
       "      <th>Date</th>\n",
       "    </tr>\n",
       "  </thead>\n",
       "  <tbody>\n",
       "    <tr>\n",
       "      <th>0</th>\n",
       "      <td>1</td>\n",
       "      <td>It just works!</td>\n",
       "      <td>2017-08-14</td>\n",
       "    </tr>\n",
       "    <tr>\n",
       "      <th>1</th>\n",
       "      <td>1</td>\n",
       "      <td>В целом удобноное приложение...из минусов хотя...</td>\n",
       "      <td>2017-08-14</td>\n",
       "    </tr>\n",
       "    <tr>\n",
       "      <th>2</th>\n",
       "      <td>1</td>\n",
       "      <td>Отлично все</td>\n",
       "      <td>2017-08-14</td>\n",
       "    </tr>\n",
       "    <tr>\n",
       "      <th>3</th>\n",
       "      <td>1</td>\n",
       "      <td>Стал зависать на 1% работы антивируса. Дальше ...</td>\n",
       "      <td>2017-08-14</td>\n",
       "    </tr>\n",
       "    <tr>\n",
       "      <th>4</th>\n",
       "      <td>1</td>\n",
       "      <td>Очень удобно, работает быстро.</td>\n",
       "      <td>2017-08-14</td>\n",
       "    </tr>\n",
       "    <tr>\n",
       "      <th>...</th>\n",
       "      <td>...</td>\n",
       "      <td>...</td>\n",
       "      <td>...</td>\n",
       "    </tr>\n",
       "    <tr>\n",
       "      <th>20654</th>\n",
       "      <td>0</td>\n",
       "      <td>Ну и шляпа,с роот правами бесполезная прога,ра...</td>\n",
       "      <td>2017-06-01</td>\n",
       "    </tr>\n",
       "    <tr>\n",
       "      <th>20655</th>\n",
       "      <td>1</td>\n",
       "      <td>Ок</td>\n",
       "      <td>2017-06-01</td>\n",
       "    </tr>\n",
       "    <tr>\n",
       "      <th>20656</th>\n",
       "      <td>1</td>\n",
       "      <td>Доволен</td>\n",
       "      <td>2017-06-01</td>\n",
       "    </tr>\n",
       "    <tr>\n",
       "      <th>20657</th>\n",
       "      <td>0</td>\n",
       "      <td>Песопаснасть, рут ни нужын</td>\n",
       "      <td>2017-06-01</td>\n",
       "    </tr>\n",
       "    <tr>\n",
       "      <th>20658</th>\n",
       "      <td>1</td>\n",
       "      <td>Сбербанк бомбовая компания на сегодняшний день...</td>\n",
       "      <td>2017-06-01</td>\n",
       "    </tr>\n",
       "  </tbody>\n",
       "</table>\n",
       "<p>19748 rows × 3 columns</p>\n",
       "</div>"
      ],
      "text/plain": [
       "       Rating                                            Content        Date\n",
       "0           1                                     It just works!  2017-08-14\n",
       "1           1  В целом удобноное приложение...из минусов хотя...  2017-08-14\n",
       "2           1                                        Отлично все  2017-08-14\n",
       "3           1  Стал зависать на 1% работы антивируса. Дальше ...  2017-08-14\n",
       "4           1                     Очень удобно, работает быстро.  2017-08-14\n",
       "...       ...                                                ...         ...\n",
       "20654       0  Ну и шляпа,с роот правами бесполезная прога,ра...  2017-06-01\n",
       "20655       1                                                 Ок  2017-06-01\n",
       "20656       1                                            Доволен  2017-06-01\n",
       "20657       0                         Песопаснасть, рут ни нужын  2017-06-01\n",
       "20658       1  Сбербанк бомбовая компания на сегодняшний день...  2017-06-01\n",
       "\n",
       "[19748 rows x 3 columns]"
      ]
     },
     "execution_count": 5,
     "metadata": {},
     "output_type": "execute_result"
    }
   ],
   "source": [
    "df"
   ]
  },
  {
   "cell_type": "code",
   "execution_count": 6,
   "metadata": {
    "colab": {
     "base_uri": "https://localhost:8080/",
     "height": 204
    },
    "colab_type": "code",
    "executionInfo": {
     "elapsed": 625,
     "status": "ok",
     "timestamp": 1590650173083,
     "user": {
      "displayName": "Roman Zakharov",
      "photoUrl": "",
      "userId": "18255168926005506833"
     },
     "user_tz": -240
    },
    "id": "_9l0iHhaI0O1",
    "outputId": "4b7f24ee-222f-464b-e669-d653138571d1"
   },
   "outputs": [],
   "source": [
    "# Разобьем датасет\n",
    "from sklearn.model_selection import train_test_split\n",
    "df_train, df_test= train_test_split(df.drop(columns='Date'), test_size=0.25, random_state=42)"
   ]
  },
  {
   "cell_type": "markdown",
   "metadata": {
    "colab_type": "text",
    "id": "qEyvOxoOJDTP"
   },
   "source": [
    "### Предобработка"
   ]
  },
  {
   "cell_type": "code",
   "execution_count": 7,
   "metadata": {},
   "outputs": [],
   "source": [
    "from string import punctuation\n",
    "from stop_words import get_stop_words\n",
    "from pymorphy2 import MorphAnalyzer\n",
    "import re"
   ]
  },
  {
   "cell_type": "code",
   "execution_count": 8,
   "metadata": {},
   "outputs": [],
   "source": [
    "sw = set(get_stop_words(\"ru\"))\n",
    "exclude = set(punctuation)\n",
    "morpher = MorphAnalyzer()\n",
    "\n",
    "def preprocess_text(txt):\n",
    "    txt = str(txt)\n",
    "    txt = \"\".join(c for c in txt if c not in exclude)\n",
    "    txt = txt.lower()\n",
    "    txt = re.sub(\"\\sне\", \"не\", txt)\n",
    "    txt = [morpher.parse(word)[0].normal_form for word in txt.split() if word not in sw]\n",
    "    return \" \".join(txt)\n",
    "\n",
    "df_train['Content'] = df_train['Content'].apply(preprocess_text)\n",
    "df_test['Content'] = df_test['Content'].apply(preprocess_text)"
   ]
  },
  {
   "cell_type": "code",
   "execution_count": 9,
   "metadata": {
    "colab": {},
    "colab_type": "code",
    "id": "C4o9QgmWI3Pw"
   },
   "outputs": [],
   "source": [
    "train_corpus = \" \".join(df_train[\"Content\"])\n",
    "train_corpus = train_corpus.lower()"
   ]
  },
  {
   "cell_type": "code",
   "execution_count": 10,
   "metadata": {
    "colab": {
     "base_uri": "https://localhost:8080/",
     "height": 51
    },
    "colab_type": "code",
    "executionInfo": {
     "elapsed": 10183,
     "status": "ok",
     "timestamp": 1590650264825,
     "user": {
      "displayName": "Roman Zakharov",
      "photoUrl": "",
      "userId": "18255168926005506833"
     },
     "user_tz": -240
    },
    "id": "Hed2ySbwJH6B",
    "outputId": "66a75988-b4e3-45aa-a483-adbdc766db03"
   },
   "outputs": [
    {
     "name": "stderr",
     "output_type": "stream",
     "text": [
      "[nltk_data] Downloading package punkt to\n",
      "[nltk_data]     C:\\Users\\den41\\AppData\\Roaming\\nltk_data...\n",
      "[nltk_data]   Package punkt is already up-to-date!\n"
     ]
    }
   ],
   "source": [
    "import nltk\n",
    "from nltk.tokenize import word_tokenize\n",
    "nltk.download(\"punkt\")\n",
    "\n",
    "tokens = word_tokenize(train_corpus)"
   ]
  },
  {
   "cell_type": "markdown",
   "metadata": {
    "colab_type": "text",
    "id": "yJ8T0fwYJYJX"
   },
   "source": [
    "Отфильтруем данные\n",
    "\n",
    "и соберём в корпус N наиболее частых токенов"
   ]
  },
  {
   "cell_type": "code",
   "execution_count": 11,
   "metadata": {
    "colab": {},
    "colab_type": "code",
    "id": "EXOLVK1tJLT8"
   },
   "outputs": [],
   "source": [
    "tokens_filtered = [word for word in tokens if word.isalnum()]"
   ]
  },
  {
   "cell_type": "code",
   "execution_count": 12,
   "metadata": {
    "colab": {},
    "colab_type": "code",
    "id": "8qCQH5nIJoiB"
   },
   "outputs": [],
   "source": [
    "from nltk.probability import FreqDist\n",
    "dist = FreqDist(tokens_filtered)\n",
    "tokens_filtered_top = [pair[0] for pair in dist.most_common(max_words-1)]"
   ]
  },
  {
   "cell_type": "code",
   "execution_count": 13,
   "metadata": {
    "colab": {},
    "colab_type": "code",
    "id": "Tdk777qGJtz4"
   },
   "outputs": [],
   "source": [
    "vocabulary = {v: k for k, v in dict(enumerate(tokens_filtered_top, 1)).items()}"
   ]
  },
  {
   "cell_type": "code",
   "execution_count": 14,
   "metadata": {
    "colab": {},
    "colab_type": "code",
    "id": "5OULZgvkJzpj"
   },
   "outputs": [],
   "source": [
    "\n",
    "def text_to_sequence(text, maxlen):\n",
    "    result = []\n",
    "    tokens = word_tokenize(text.lower())\n",
    "    tokens_filtered = [word for word in tokens if word.isalnum()]\n",
    "    for word in tokens_filtered:\n",
    "        if word in vocabulary:\n",
    "            result.append(vocabulary[word])\n",
    "    padding = [0]*(maxlen-len(result))\n",
    "    return padding + result[-maxlen:]"
   ]
  },
  {
   "cell_type": "code",
   "execution_count": 15,
   "metadata": {
    "colab": {},
    "colab_type": "code",
    "id": "pqHlf5nNJ2hl"
   },
   "outputs": [],
   "source": [
    "x_train = np.asarray([text_to_sequence(text, max_len) for text in df_train[\"Content\"]], dtype=np.int32)\n",
    "x_test = np.asarray([text_to_sequence(text, max_len) for text in df_test[\"Content\"]], dtype=np.int32)"
   ]
  },
  {
   "cell_type": "code",
   "execution_count": 16,
   "metadata": {
    "colab": {
     "base_uri": "https://localhost:8080/",
     "height": 34
    },
    "colab_type": "code",
    "executionInfo": {
     "elapsed": 562,
     "status": "ok",
     "timestamp": 1590650625870,
     "user": {
      "displayName": "Roman Zakharov",
      "photoUrl": "",
      "userId": "18255168926005506833"
     },
     "user_tz": -240
    },
    "id": "lI4NUg_TJ6NK",
    "outputId": "5d29285d-6c2e-4c34-f307-c2e9c3c12631"
   },
   "outputs": [
    {
     "data": {
      "text/plain": [
       "(14811, 40)"
      ]
     },
     "execution_count": 16,
     "metadata": {},
     "output_type": "execute_result"
    }
   ],
   "source": [
    "x_train.shape"
   ]
  },
  {
   "cell_type": "code",
   "execution_count": 17,
   "metadata": {
    "colab": {},
    "colab_type": "code",
    "id": "Ynw9XOZNK4Wp"
   },
   "outputs": [],
   "source": [
    "class Net(nn.Module):\n",
    "    def __init__(self, vocab_size=20, embedding_dim=128, out_channel=128, num_classes=2):\n",
    "        super().__init__()\n",
    "        self.embedding = nn.Embedding(vocab_size, embedding_dim)\n",
    "        self.conv = nn.Conv1d(embedding_dim, out_channel, kernel_size=3)\n",
    "        self.relu = nn.ReLU()\n",
    "        self.linear = nn.Linear(out_channel, num_classes)\n",
    "        \n",
    "    def forward(self, x):        \n",
    "        output = self.embedding(x)\n",
    "        #                       B  F  L         \n",
    "        output = output.permute(0, 2, 1)  # Переворачиваем чтоб ходить по высоте а не длинне, а permute верно перевернет в отличие от vie\n",
    "        output = self.conv(output)\n",
    "        output = self.relu(output)\n",
    "        output = torch.max(output, axis=2).values\n",
    "        output = self.linear(output)\n",
    "        return output"
   ]
  },
  {
   "cell_type": "code",
   "execution_count": 18,
   "metadata": {
    "colab": {},
    "colab_type": "code",
    "id": "PhwK7yLAK8b0"
   },
   "outputs": [],
   "source": [
    "from torch.utils.data import DataLoader, Dataset\n",
    "\n",
    "class DataWrapper(Dataset):\n",
    "    def __init__(self, data, target=None, transform=None):\n",
    "        self.data = torch.from_numpy(data).long()\n",
    "        if target is not None:\n",
    "            self.target = torch.from_numpy(target).long()\n",
    "        self.transform = transform\n",
    "        \n",
    "    def __getitem__(self, index):\n",
    "        x = self.data[index]\n",
    "        y = self.target[index] if self.target is not None else None\n",
    "        \n",
    "        if self.transform:\n",
    "            x = self.transform(x)\n",
    "        y = F.one_hot(y, num_classes=2)\n",
    "        return x, y\n",
    "    \n",
    "    def __len__(self):\n",
    "        return len(self.data)"
   ]
  },
  {
   "cell_type": "code",
   "execution_count": 19,
   "metadata": {
    "colab": {
     "base_uri": "https://localhost:8080/",
     "height": 646
    },
    "colab_type": "code",
    "executionInfo": {
     "elapsed": 268258,
     "status": "ok",
     "timestamp": 1590651203640,
     "user": {
      "displayName": "Roman Zakharov",
      "photoUrl": "",
      "userId": "18255168926005506833"
     },
     "user_tz": -240
    },
    "id": "GL6E1ha9LCq8",
    "outputId": "3f24d317-204b-4ffd-dd0c-f30a7930ff85",
    "scrolled": true,
    "tags": []
   },
   "outputs": [
    {
     "name": "stdout",
     "output_type": "stream",
     "text": [
      "Net(\n",
      "  (embedding): Embedding(2000, 128)\n",
      "  (conv): Conv1d(128, 128, kernel_size=(3,), stride=(1,))\n",
      "  (relu): ReLU()\n",
      "  (linear): Linear(in_features=128, out_features=2, bias=True)\n",
      ")\n",
      "Parameters: 305538\n",
      "Train epoch 1/40\n",
      "Step 0: loss=1.1974667310714722\n",
      "Test loss=0.3270736634731293\n",
      "\n",
      "Train epoch 2/40\n",
      "Step 0: loss=0.3534228205680847\n",
      "Test loss=0.3452039659023285\n",
      "\n",
      "Train epoch 3/40\n",
      "Step 0: loss=0.30612868070602417\n",
      "Test loss=0.3199276924133301\n",
      "\n",
      "Train epoch 4/40\n",
      "Step 0: loss=0.32517746090888977\n",
      "Test loss=0.29052284359931946\n",
      "\n",
      "Train epoch 5/40\n",
      "Step 0: loss=0.28668147325515747\n",
      "Test loss=0.3220072090625763\n",
      "\n",
      "Train epoch 6/40\n",
      "Step 0: loss=0.2529218792915344\n",
      "Test loss=0.2281748503446579\n",
      "\n",
      "Train epoch 7/40\n",
      "Step 0: loss=0.24395392835140228\n",
      "Test loss=0.2670406699180603\n",
      "\n",
      "Train epoch 8/40\n",
      "Step 0: loss=0.2641643285751343\n",
      "Test loss=0.2579937279224396\n",
      "\n",
      "Train epoch 9/40\n",
      "Step 0: loss=0.31976497173309326\n",
      "Test loss=0.2363385558128357\n",
      "\n",
      "Train epoch 10/40\n",
      "Step 0: loss=0.2569216787815094\n",
      "Test loss=0.2551689147949219\n",
      "\n",
      "Train epoch 11/40\n",
      "Step 0: loss=0.2382776141166687\n",
      "Test loss=0.2356000393629074\n",
      "\n",
      "Train epoch 12/40\n",
      "Step 0: loss=0.20004403591156006\n",
      "Test loss=0.252640038728714\n",
      "\n",
      "Train epoch 13/40\n",
      "Step 0: loss=0.22802290320396423\n",
      "Test loss=0.22795626521110535\n",
      "\n",
      "Train epoch 14/40\n",
      "Step 0: loss=0.25398707389831543\n",
      "Test loss=0.21285735070705414\n",
      "\n",
      "Train epoch 15/40\n",
      "Step 0: loss=0.21133729815483093\n",
      "Test loss=0.19299237430095673\n",
      "\n",
      "Train epoch 16/40\n",
      "Step 0: loss=0.1882893145084381\n",
      "Test loss=0.21184764802455902\n",
      "\n",
      "Train epoch 17/40\n",
      "Step 0: loss=0.2149222195148468\n",
      "Test loss=0.2207501083612442\n",
      "\n",
      "Train epoch 18/40\n",
      "Step 0: loss=0.18781086802482605\n",
      "Test loss=0.2034096121788025\n",
      "\n",
      "Train epoch 19/40\n",
      "Step 0: loss=0.20315229892730713\n",
      "Test loss=0.17690154910087585\n",
      "\n",
      "Train epoch 20/40\n",
      "Step 0: loss=0.210383802652359\n",
      "Test loss=0.19695742428302765\n",
      "\n",
      "Train epoch 21/40\n",
      "Step 0: loss=0.18564361333847046\n",
      "Test loss=0.18538647890090942\n",
      "\n",
      "Train epoch 22/40\n",
      "Step 0: loss=0.2051096111536026\n",
      "Test loss=0.19683560729026794\n",
      "\n",
      "Train epoch 23/40\n",
      "Step 0: loss=0.22136995196342468\n",
      "Test loss=0.19675123691558838\n",
      "\n",
      "Train epoch 24/40\n",
      "Step 0: loss=0.16721193492412567\n",
      "Test loss=0.18061888217926025\n",
      "\n",
      "Train epoch 25/40\n",
      "Step 0: loss=0.1509588360786438\n",
      "Test loss=0.18519970774650574\n",
      "\n",
      "Train epoch 26/40\n",
      "Step 0: loss=0.17529845237731934\n",
      "Test loss=0.17761826515197754\n",
      "\n",
      "Train epoch 27/40\n",
      "Step 0: loss=0.1811048537492752\n",
      "Test loss=0.159468874335289\n",
      "\n",
      "Train epoch 28/40\n",
      "Step 0: loss=0.1589481383562088\n",
      "Test loss=0.16000203788280487\n",
      "\n",
      "Train epoch 29/40\n",
      "Step 0: loss=0.19812878966331482\n",
      "Test loss=0.16720792651176453\n",
      "\n",
      "Train epoch 30/40\n",
      "Step 0: loss=0.16259488463401794\n",
      "Test loss=0.18834465742111206\n",
      "\n",
      "Train epoch 31/40\n",
      "Step 0: loss=0.15524634718894958\n",
      "Test loss=0.16330590844154358\n",
      "\n",
      "Train epoch 32/40\n",
      "Step 0: loss=0.12520816922187805\n",
      "Test loss=0.19029852747917175\n",
      "\n",
      "Train epoch 33/40\n",
      "Step 0: loss=0.16104212403297424\n",
      "Test loss=0.1565808653831482\n",
      "\n",
      "Train epoch 34/40\n",
      "Step 0: loss=0.1340118795633316\n",
      "Test loss=0.1483173817396164\n",
      "\n",
      "Train epoch 35/40\n",
      "Step 0: loss=0.14536836743354797\n",
      "Test loss=0.13466176390647888\n",
      "\n",
      "Train epoch 36/40\n",
      "Step 0: loss=0.14580197632312775\n",
      "Test loss=0.15965932607650757\n",
      "\n",
      "Train epoch 37/40\n",
      "Step 0: loss=0.15606103837490082\n",
      "Test loss=0.1759738177061081\n",
      "\n",
      "Train epoch 38/40\n",
      "Step 0: loss=0.13156726956367493\n",
      "Test loss=0.14135539531707764\n",
      "\n",
      "Train epoch 39/40\n",
      "Step 0: loss=0.12857641279697418\n",
      "Test loss=0.14895975589752197\n",
      "\n",
      "Train epoch 40/40\n",
      "Step 0: loss=0.14725592732429504\n",
      "Test loss=0.1295032501220703\n",
      "\n"
     ]
    }
   ],
   "source": [
    "model = Net(vocab_size=max_words).to(device)\n",
    "\n",
    "print(model)\n",
    "print(\"Parameters:\", sum([param.nelement() for param in model.parameters()]))\n",
    "\n",
    "model.train()\n",
    "\n",
    "optimizer = torch.optim.Adam(model.parameters(), lr=10e-5)\n",
    "# criterion = nn.BCEWithLogitsLoss()\n",
    "criterion = nn.CrossEntropyLoss()  # Этот лосс мне более знаком\n",
    "\n",
    "    \n",
    "train_dataset = DataWrapper(x_train, df_train['Rating'].values)\n",
    "train_loader = DataLoader(train_dataset, batch_size=batch_size, shuffle=True)\n",
    "test_dataset = DataWrapper(x_test, df_test['Rating'].values)\n",
    "test_loader = DataLoader(test_dataset, batch_size=len(x_test), shuffle=True)\n",
    "\n",
    "loss_history = []\n",
    "test_lost_history = []\n",
    "\n",
    "for epoch in range(1, epochs + 1):\n",
    "    print(f\"Train epoch {epoch}/{epochs}\")\n",
    "    for i, (data, target) in enumerate(train_loader):\n",
    "        optimizer.zero_grad()        \n",
    "        \n",
    "        # compute output\n",
    "        output = model(data.to(device))        \n",
    "        \n",
    "        # compute gradient and do SGD step\n",
    "        loss = criterion(output, target.to(device).float())\n",
    "        loss.backward()\n",
    "        \n",
    "        optimizer.step()\n",
    "        \n",
    "        if i%print_batch_n == 0:\n",
    "            loss = loss.float().item()\n",
    "            print(f\"Step {i}: loss={loss}\")\n",
    "            loss_history.append(loss)\n",
    "            \n",
    "    data, target = next(iter(test_loader))\n",
    "    # compute output\n",
    "    output = model(data.to(device))        \n",
    "\n",
    "    # compute gradient and do SGD step\n",
    "    test_loss = criterion(output, target.to(device).float())\n",
    "    test_lost_history.append(test_loss.float().item())\n",
    "    print(f\"Test loss={loss}\\n\")"
   ]
  },
  {
   "cell_type": "code",
   "execution_count": 20,
   "metadata": {
    "colab": {
     "base_uri": "https://localhost:8080/",
     "height": 295
    },
    "colab_type": "code",
    "executionInfo": {
     "elapsed": 1003,
     "status": "ok",
     "timestamp": 1590651241590,
     "user": {
      "displayName": "Roman Zakharov",
      "photoUrl": "",
      "userId": "18255168926005506833"
     },
     "user_tz": -240
    },
    "id": "FUzsX6yaLOBS",
    "outputId": "5519263c-0f51-43b2-f23f-4f3c7bf1f57b"
   },
   "outputs": [
    {
     "data": {
      "image/png": "[encoded data removed]",
      "text/plain": [
       "<Figure size 432x288 with 1 Axes>"
      ]
     },
     "metadata": {
      "needs_background": "light"
     },
     "output_type": "display_data"
    }
   ],
   "source": [
    "import matplotlib.pyplot as plt\n",
    "\n",
    "plt.title('Loss history')\n",
    "plt.grid(True)\n",
    "plt.ylabel('Train loss')\n",
    "plt.xlabel('Step')\n",
    "plt.plot(loss_history, label='train')\n",
    "plt.plot(test_lost_history, label='test')\n",
    "plt.legend()\n",
    "plt.show()"
   ]
  },
  {
   "cell_type": "code",
   "execution_count": null,
   "metadata": {
    "colab": {},
    "colab_type": "code",
    "id": "v0MCouVuM3z7"
   },
   "outputs": [],
   "source": []
  }
 ],
 "metadata": {
  "colab": {
   "collapsed_sections": [],
   "name": "dl-nlp-cnn1.ipynb",
   "provenance": []
  },
  "kernelspec": {
   "display_name": "Python 3 (ipykernel)",
   "language": "python",
   "name": "python3"
  },
  "language_info": {
   "codemirror_mode": {
    "name": "ipython",
    "version": 3
   },
   "file_extension": ".py",
   "mimetype": "text/x-python",
   "name": "python",
   "nbconvert_exporter": "python",
   "pygments_lexer": "ipython3",
   "version": "3.9.12"
  }
 },
 "nbformat": 4,
 "nbformat_minor": 4
}
